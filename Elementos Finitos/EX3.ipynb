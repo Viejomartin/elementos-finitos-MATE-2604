{
 "cells": [
  {
   "cell_type": "markdown",
   "metadata": {},
   "source": [
    "# Example 3"
   ]
  },
  {
   "cell_type": "markdown",
   "metadata": {},
   "source": [
    "### Packages and aesthetic purposed variables"
   ]
  },
  {
   "cell_type": "code",
   "execution_count": null,
   "metadata": {},
   "outputs": [],
   "source": [
    "import matplotlib as mpl\n",
    "import matplotlib.pyplot as plt\n",
    "from __future__ import print_function\n",
    "from ipywidgets import interact, interactive, fixed, interact_manual\n",
    "import ipywidgets as widgets\n",
    "import math\n",
    "import pandas as pd\n",
    "import numpy as np\n",
    "\n",
    "#Size of plot\n",
    "def set_size(w,h, ax=None):\n",
    "    \"\"\" w, h: width, height in inches \"\"\"\n",
    "    if not ax: ax=plt.gca()\n",
    "    l = ax.figure.subplotpars.left\n",
    "    r = ax.figure.subplotpars.right\n",
    "    t = ax.figure.subplotpars.top\n",
    "    b = ax.figure.subplotpars.bottom\n",
    "    figw = float(w)/(r-l)\n",
    "    figh = float(h)/(t-b)\n",
    "    ax.figure.set_size_inches(figw, figh)"
   ]
  },
  {
   "cell_type": "markdown",
   "metadata": {},
   "source": [
    "## Tridiagonal solver"
   ]
  },
  {
   "cell_type": "code",
   "execution_count": 72,
   "metadata": {},
   "outputs": [
    {
     "data": {
      "text/html": [
       "<div>\n",
       "<style scoped>\n",
       "    .dataframe tbody tr th:only-of-type {\n",
       "        vertical-align: middle;\n",
       "    }\n",
       "\n",
       "    .dataframe tbody tr th {\n",
       "        vertical-align: top;\n",
       "    }\n",
       "\n",
       "    .dataframe thead th {\n",
       "        text-align: right;\n",
       "    }\n",
       "</style>\n",
       "<table border=\"1\" class=\"dataframe\">\n",
       "  <thead>\n",
       "    <tr style=\"text-align: right;\">\n",
       "      <th></th>\n",
       "      <th>0</th>\n",
       "      <th>1</th>\n",
       "      <th>2</th>\n",
       "      <th>3</th>\n",
       "      <th>4</th>\n",
       "      <th>5</th>\n",
       "      <th>6</th>\n",
       "      <th>7</th>\n",
       "      <th>8</th>\n",
       "      <th>9</th>\n",
       "      <th>10</th>\n",
       "    </tr>\n",
       "  </thead>\n",
       "  <tbody>\n",
       "    <tr>\n",
       "      <th>0</th>\n",
       "      <td>0.0</td>\n",
       "      <td>0.037461</td>\n",
       "      <td>0.06297</td>\n",
       "      <td>0.078437</td>\n",
       "      <td>0.085352</td>\n",
       "      <td>0.084893</td>\n",
       "      <td>0.078011</td>\n",
       "      <td>0.065487</td>\n",
       "      <td>0.047964</td>\n",
       "      <td>0.025982</td>\n",
       "      <td>0.0</td>\n",
       "    </tr>\n",
       "  </tbody>\n",
       "</table>\n",
       "</div>"
      ],
      "text/plain": [
       "    0         1        2         3         4         5         6         7   \\\n",
       "0  0.0  0.037461  0.06297  0.078437  0.085352  0.084893  0.078011  0.065487   \n",
       "\n",
       "         8         9    10  \n",
       "0  0.047964  0.025982  0.0  "
      ]
     },
     "execution_count": 72,
     "metadata": {},
     "output_type": "execute_result"
    }
   ],
   "source": [
    "n = 10\n",
    "l = 1\n",
    "f = lambda x: -x + math.log(x + 1) / math.log(2)\n",
    "\n",
    "def generateElements(n):\n",
    "    h = l/n\n",
    "    x = np.arange(0,l+1/n,h)\n",
    "    s = np.fromiter((h+h**2*(j+1/2) for j in range(n+1)), float, n+1)\n",
    "    b = np.fromiter((h for j in range(n+1)), float, n+1)\n",
    "    M = (np.diag(np.fromiter((-s[i] for i in range(1,n-1)),float,n-2),1)+(\n",
    "        np.diag(np.fromiter((s[i]+s[i+1] for i in range(n-1)),float,n-1),0) +(\n",
    "        np.diag(np.fromiter((-s[i] for i in range(1,n-1)),float,n-2),-1)\n",
    "        )))\n",
    "    return x,b,M\n",
    "\n",
    "def TriDiagonalSolver(M,b):\n",
    "    m = M.shape[0]\n",
    "    A = M.diagonal(-1).copy()\n",
    "    B = M.diagonal(0).copy()\n",
    "    C = M.diagonal(1).copy()\n",
    "    D = b.copy()\n",
    "    X = np.zeros(m+2)\n",
    "    W = 0\n",
    "    for i in range(1,m):\n",
    "        W = A[i-1]/B[i-1]\n",
    "        B[i] = B[i]-W*C[i-1]\n",
    "        D[i] = D[i]-W*D[i-1]\n",
    "    X[m] = D[m-1]/B[m-1]\n",
    "    for i in range(m-2 ,-1, -1):\n",
    "        X[i+1] = (D[i]-C[i]*X[i+2])/B[i]\n",
    "    return X/(m+1)**2\n",
    "\n",
    "x,b,M = generateElements(n)\n",
    "# c is the approximate solution\n",
    "c = TriDiagonalSolver(M,b)\n",
    "pd.DataFrame(c).T"
   ]
  },
  {
   "cell_type": "markdown",
   "metadata": {},
   "source": [
    "## Interactive plot for the comparisson between $f(x)$ and $c(x)$\n",
    "We added an slider that changes $n$ and plots the solution for that $n$"
   ]
  },
  {
   "cell_type": "code",
   "execution_count": 71,
   "metadata": {},
   "outputs": [
    {
     "data": {
      "application/vnd.jupyter.widget-view+json": {
       "model_id": "d3d8ec852eeb422796d59582218db427",
       "version_major": 2,
       "version_minor": 0
      },
      "text/plain": [
       "interactive(children=(IntSlider(value=11, description='n', max=20, min=2), Output()), _dom_classes=('widget-in…"
      ]
     },
     "metadata": {},
     "output_type": "display_data"
    },
    {
     "data": {
      "text/plain": [
       "<function __main__.graph(n)>"
      ]
     },
     "execution_count": 71,
     "metadata": {},
     "output_type": "execute_result"
    }
   ],
   "source": [
    "def graph(n):\n",
    "    x,b,M = generateElements(n)\n",
    "    c = TriDiagonalSolver(M,b)\n",
    "    if len(c) < len(x):\n",
    "        x = x[:-1]\n",
    "    fig,ax = plt.subplots()\n",
    "    set_size(10,6,ax)\n",
    "    ax.set_xlabel(\"$x$\",fontsize=18)\n",
    "    ax.plot(x,c, label=\"$c(x)$\")\n",
    "    ax.plot(np.arange(0,l+1/40,l/40),np.fromiter((f(x) for x in np.arange(0,l+1/40,l/40)), dtype=float), label=\"$f(x)$\")\n",
    "    plt.legend(loc=\"upper left\")\n",
    "interact(graph, n=(2,20,1))"
   ]
  }
 ],
 "metadata": {
  "kernelspec": {
   "display_name": "Python 3.10.6 ('base')",
   "language": "python",
   "name": "python3"
  },
  "language_info": {
   "codemirror_mode": {
    "name": "ipython",
    "version": 3
   },
   "file_extension": ".py",
   "mimetype": "text/x-python",
   "name": "python",
   "nbconvert_exporter": "python",
   "pygments_lexer": "ipython3",
   "version": "3.10.7"
  },
  "orig_nbformat": 4,
  "vscode": {
   "interpreter": {
    "hash": "767d51c1340bd893661ea55ea3124f6de3c7a262a8b4abca0554b478b1e2ff90"
   }
  }
 },
 "nbformat": 4,
 "nbformat_minor": 2
}
